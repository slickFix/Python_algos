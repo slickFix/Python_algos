{
 "cells": [
  {
   "cell_type": "markdown",
   "metadata": {},
   "source": [
    "# Implementing Simple Linear Regression ( Gradient Descent[vectorized] )"
   ]
  },
  {
   "cell_type": "code",
   "execution_count": 48,
   "metadata": {},
   "outputs": [],
   "source": [
    "# importing libraries\n",
    "import numpy as np\n",
    "import pandas as pd\n",
    "import matplotlib.pyplot as plt\n",
    "%matplotlib inline"
   ]
  },
  {
   "cell_type": "code",
   "execution_count": 49,
   "metadata": {},
   "outputs": [],
   "source": [
    "# creating x data\n",
    "\n",
    "slope = 3\n",
    "intercept = 10\n",
    "\n",
    "x = 5*np.random.rand(100,1)\n",
    "y = intercept + slope*x +np.random.randn(100,1)"
   ]
  },
  {
   "cell_type": "code",
   "execution_count": 50,
   "metadata": {},
   "outputs": [],
   "source": [
    "theta = np.random.randint(-10,10,(1,2))"
   ]
  },
  {
   "cell_type": "code",
   "execution_count": 51,
   "metadata": {},
   "outputs": [],
   "source": [
    "x_gd = np.hstack([np.ones((len(x),1)),x])"
   ]
  },
  {
   "cell_type": "code",
   "execution_count": 52,
   "metadata": {},
   "outputs": [
    {
     "data": {
      "text/plain": [
       "[<matplotlib.lines.Line2D at 0x7fc0e7771fd0>]"
      ]
     },
     "execution_count": 52,
     "metadata": {},
     "output_type": "execute_result"
    },
    {
     "data": {
      "image/png": "[encoded data removed]",
      "text/plain": [
       "<Figure size 432x288 with 1 Axes>"
      ]
     },
     "metadata": {},
     "output_type": "display_data"
    }
   ],
   "source": [
    "y_pred = np.dot(x_gd,theta.T)\n",
    "\n",
    "plt.scatter(x,y)\n",
    "plt.plot(x,y_pred,'-r')"
   ]
  },
  {
   "cell_type": "markdown",
   "metadata": {},
   "source": [
    "#### 1. Implementing Gradient Descent \n",
    "\n",
    "Cost $$\n",
    "J(\\theta) = 1/2m \\sum_{i=1}^{m} (h(\\theta)^{(i)} - y^{(i)})^2 \n",
    "$$\n",
    "\n",
    "Gradient\n",
    "\n",
    "$$\n",
    "\\frac{\\partial J(\\theta)}{\\partial \\theta_j} = 1/m\\sum_{i=1}^{m}(h(\\theta^{(i)} - y^{(i)}).X_j^{(i)}\n",
    "$$\n",
    "Gradients $$\n",
    "\\theta_0: = \\theta_0 -\\alpha . (1/m .\\sum_{i=1}^{m}(h(\\theta^{(i)} - y^{(i)}).X_0^{(i)})\n",
    "$$$$\n",
    "\\theta_1: = \\theta_1 -\\alpha . (1/m .\\sum_{i=1}^{m}(h(\\theta^{(i)} - y^{(i)}).X_1^{(i)})\n",
    "$$$$\n",
    "\\theta_2: = \\theta_2-\\alpha . (1/m .\\sum_{i=1}^{m}(h(\\theta^{(i)} - y^{(i)}).X_2^{(i)})\n",
    "$$\n",
    "\n",
    "$$\n",
    "\\theta_j: = \\theta_j -\\alpha . (1/m .\\sum_{i=1}^{m}(h(\\theta^{(i)} - y^{(i)}).X_j^{(i)})\n",
    "$$"
   ]
  },
  {
   "cell_type": "code",
   "execution_count": 53,
   "metadata": {},
   "outputs": [],
   "source": [
    "def compute_error(x_gd,y,theta):\n",
    "    y_hat = np.dot(x_gd,theta.T)\n",
    "    return sum((y-y_hat)**2 )/(len(y)*2)"
   ]
  },
  {
   "cell_type": "code",
   "execution_count": 54,
   "metadata": {},
   "outputs": [],
   "source": [
    "def gradient_descent(x_gd,y,theta,learning_rate=0.0001,iterations = 10000):\n",
    "    cost_history = np.zeros(iterations)\n",
    "    theta_history = np.zeros((iterations,2))\n",
    "    \n",
    "    precision = 0.01\n",
    "    \n",
    "    for it in range(iterations):\n",
    "        y_hat = np.dot(x_gd,theta.T)\n",
    "        \n",
    "        error = compute_error(x_gd,y,theta)\n",
    "        \n",
    "        theta = theta-((1/len(y))*learning_rate*(np.dot(x_gd.T,(y_hat-y)))).T\n",
    "        \n",
    "        theta_history[it,:] = theta\n",
    "        cost_history[it] = error\n",
    "    \n",
    "    return theta,cost_history,theta_history\n",
    "                                                    \n",
    "        \n",
    "        "
   ]
  },
  {
   "cell_type": "code",
   "execution_count": 55,
   "metadata": {},
   "outputs": [],
   "source": [
    "# calculating theta and cost_history and theta_history\n",
    "\n",
    "theta_gd,cost_history,theta_history = \\\n",
    "    gradient_descent(x_gd,y,theta,learning_rate=0.0001,iterations = 100000)"
   ]
  },
  {
   "cell_type": "code",
   "execution_count": 56,
   "metadata": {},
   "outputs": [
    {
     "data": {
      "text/plain": [
       "[<matplotlib.lines.Line2D at 0x7fc0e76f5320>]"
      ]
     },
     "execution_count": 56,
     "metadata": {},
     "output_type": "execute_result"
    },
    {
     "data": {
      "image/png": "[encoded data removed]",
      "text/plain": [
       "<Figure size 432x288 with 1 Axes>"
      ]
     },
     "metadata": {},
     "output_type": "display_data"
    }
   ],
   "source": [
    "y_pred = np.dot(x_gd,theta_gd.T)\n",
    "\n",
    "plt.scatter(x,y)\n",
    "plt.plot(x,y_pred,'-r')"
   ]
  },
  {
   "cell_type": "code",
   "execution_count": 57,
   "metadata": {},
   "outputs": [
    {
     "data": {
      "text/plain": [
       "array([123.26386327, 123.05993729, 122.85639645, ...,   0.67027632,\n",
       "         0.67026811,   0.6702599 ])"
      ]
     },
     "execution_count": 57,
     "metadata": {},
     "output_type": "execute_result"
    }
   ],
   "source": [
    "cost_history"
   ]
  },
  {
   "cell_type": "code",
   "execution_count": 59,
   "metadata": {},
   "outputs": [
    {
     "data": {
      "text/plain": [
       "[<matplotlib.lines.Line2D at 0x7fc0e7640eb8>]"
      ]
     },
     "execution_count": 59,
     "metadata": {},
     "output_type": "execute_result"
    },
    {
     "data": {
      "image/png": "[encoded data removed]",
      "text/plain": [
       "<Figure size 432x288 with 1 Axes>"
      ]
     },
     "metadata": {},
     "output_type": "display_data"
    }
   ],
   "source": [
    "# plotting cost funciton and iterations\n",
    "\n",
    "plt.plot(range(100000),cost_history)"
   ]
  },
  {
   "cell_type": "code",
   "execution_count": 46,
   "metadata": {},
   "outputs": [],
   "source": [
    "def gradientDescentVisualization(x_gd,y,theta,learning_rate=0.001,iterations=1000):\n",
    "    cost_history = np.zeros(iterations)\n",
    "    theta_history = np.zeros((iterations,2))\n",
    "    \n",
    "    precision =0.001\n",
    "    \n",
    "    plt.scatter(x_gd[:,1],y)\n",
    "                             \n",
    "    for it in range(iterations):\n",
    "        \n",
    "        y_hat = np.dot(x_gd,theta.T)\n",
    "        \n",
    "        plt.plot(x_gd[:,1],y_hat,'r.')\n",
    "        \n",
    "        theta = theta-((1/len(y))*(learning_rate)*(np.dot(x_gd.T,(y_hat-y)))).T\n",
    "        \n",
    "        cost_history[it] = compute_error(x_gd,y,theta)\n",
    "    \n",
    "    return  theta,cost_history\n",
    "     \n",
    "                             \n",
    "                        "
   ]
  },
  {
   "cell_type": "code",
   "execution_count": 47,
   "metadata": {},
   "outputs": [
    {
     "data": {
      "image/png": "[encoded data removed]",
      "text/plain": [
       "<Figure size 432x288 with 1 Axes>"
      ]
     },
     "metadata": {},
     "output_type": "display_data"
    }
   ],
   "source": [
    "gradientDescentVisualization(x_gd,y,theta,learning_rate=0.0001,iterations = 1000)"
   ]
  },
  {
   "cell_type": "code",
   "execution_count": 72,
   "metadata": {},
   "outputs": [],
   "source": [
    "# implementing stochastic gradient descent\n",
    "\n",
    "def sgd(x_gd,y,theta,learning_rate=0.0001,iterations = 100000):\n",
    "    \n",
    "    cost_history = np.zeros(iterations)\n",
    "    \n",
    "    for it in range(iterations):\n",
    "        cost = 0.0\n",
    "        for i in range(1,len(y)):\n",
    "            indx = np.random.randint(0,i)\n",
    "            x_i = x_gd[indx,:].reshape(1,2)\n",
    "            y_i = y[indx].reshape(1,1)\n",
    "            \n",
    "            y_pred = np.dot(x_i,theta.T)\n",
    "            \n",
    "            theta = theta-((1/len(y))*(learning_rate)*(np.dot(x_i.T,y_pred-y_i))).T\n",
    "            \n",
    "            cost+= compute_error(x_i,y_i,theta)\n",
    "         \n",
    "        cost_history[it]=cost\n",
    "    \n",
    "    return theta,cost_history\n",
    "            "
   ]
  },
  {
   "cell_type": "code",
   "execution_count": 73,
   "metadata": {},
   "outputs": [
    {
     "data": {
      "text/plain": [
       "array([[-3,  2]])"
      ]
     },
     "execution_count": 73,
     "metadata": {},
     "output_type": "execute_result"
    }
   ],
   "source": [
    "theta"
   ]
  },
  {
   "cell_type": "code",
   "execution_count": 74,
   "metadata": {},
   "outputs": [
    {
     "data": {
      "text/plain": [
       "array([[8.47371475, 3.49386499]])"
      ]
     },
     "execution_count": 74,
     "metadata": {},
     "output_type": "execute_result"
    }
   ],
   "source": [
    "theta_gd"
   ]
  },
  {
   "cell_type": "code",
   "execution_count": 77,
   "metadata": {},
   "outputs": [],
   "source": [
    "theta_sgd,cost_history = \\\n",
    "    sgd(x_gd,y,theta,learning_rate=0.0001,iterations = 10000)"
   ]
  },
  {
   "cell_type": "code",
   "execution_count": 78,
   "metadata": {},
   "outputs": [
    {
     "data": {
      "text/plain": [
       "array([[0.36604805, 5.86545343]])"
      ]
     },
     "execution_count": 78,
     "metadata": {},
     "output_type": "execute_result"
    }
   ],
   "source": [
    "theta_sgd"
   ]
  },
  {
   "cell_type": "code",
   "execution_count": 80,
   "metadata": {},
   "outputs": [
    {
     "data": {
      "text/plain": [
       "[<matplotlib.lines.Line2D at 0x7fc0e758d320>]"
      ]
     },
     "execution_count": 80,
     "metadata": {},
     "output_type": "execute_result"
    },
    {
     "data": {
      "image/png": "[encoded data removed]",
      "text/plain": [
       "<Figure size 432x288 with 1 Axes>"
      ]
     },
     "metadata": {},
     "output_type": "display_data"
    }
   ],
   "source": [
    "# plot of SGD cost function history\n",
    "\n",
    "plt.plot(range(10000),cost_history)"
   ]
  },
  {
   "cell_type": "code",
   "execution_count": 84,
   "metadata": {},
   "outputs": [
    {
     "data": {
      "text/plain": [
       "<matplotlib.legend.Legend at 0x7fc0e743e630>"
      ]
     },
     "execution_count": 84,
     "metadata": {},
     "output_type": "execute_result"
    },
    {
     "data": {
      "image/png": "[encoded data removed]",
      "text/plain": [
       "<Figure size 432x288 with 1 Axes>"
      ]
     },
     "metadata": {},
     "output_type": "display_data"
    }
   ],
   "source": [
    "# plotting of lines from sgd and gd\n",
    "\n",
    "plt.scatter(x_gd[:,1],y)\n",
    "plt.plot(x_gd[:,1],np.dot(x_gd,theta_gd.T),'-r',label = 'gd')\n",
    "plt.plot(x_gd[:,1],np.dot(x_gd,theta_sgd.T),'-g',label = 'sgd')\n",
    "plt.legend()\n"
   ]
  },
  {
   "cell_type": "code",
   "execution_count": null,
   "metadata": {},
   "outputs": [],
   "source": []
  }
 ],
 "metadata": {
  "kernelspec": {
   "display_name": "Python 3",
   "language": "python",
   "name": "python3"
  },
  "language_info": {
   "codemirror_mode": {
    "name": "ipython",
    "version": 3
   },
   "file_extension": ".py",
   "mimetype": "text/x-python",
   "name": "python",
   "nbconvert_exporter": "python",
   "pygments_lexer": "ipython3",
   "version": "3.6.5"
  }
 },
 "nbformat": 4,
 "nbformat_minor": 2
}
